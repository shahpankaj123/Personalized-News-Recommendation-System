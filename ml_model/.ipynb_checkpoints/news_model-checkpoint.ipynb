{
 "cells": [
  {
   "cell_type": "markdown",
   "id": "2cbc02dc-674a-4c84-99f1-f0f07f2cefd9",
   "metadata": {},
   "source": [
    "### All Library Import "
   ]
  },
  {
   "cell_type": "code",
   "execution_count": 4,
   "id": "984a6c39-ff10-42c4-887f-a17f27910a7c",
   "metadata": {},
   "outputs": [],
   "source": [
    "import pandas as pd"
   ]
  },
  {
   "cell_type": "code",
   "execution_count": 5,
   "id": "6dfefae5-4461-4d44-be7f-1a217c835fd6",
   "metadata": {},
   "outputs": [],
   "source": [
    "df=pd.read_csv('../data_set/newsdata_set.csv')"
   ]
  },
  {
   "cell_type": "code",
   "execution_count": 6,
   "id": "ac5ebe7b-2162-452e-8e75-def03d38b8b0",
   "metadata": {},
   "outputs": [
    {
     "data": {
      "text/html": [
       "<div>\n",
       "<style scoped>\n",
       "    .dataframe tbody tr th:only-of-type {\n",
       "        vertical-align: middle;\n",
       "    }\n",
       "\n",
       "    .dataframe tbody tr th {\n",
       "        vertical-align: top;\n",
       "    }\n",
       "\n",
       "    .dataframe thead th {\n",
       "        text-align: right;\n",
       "    }\n",
       "</style>\n",
       "<table border=\"1\" class=\"dataframe\">\n",
       "  <thead>\n",
       "    <tr style=\"text-align: right;\">\n",
       "      <th></th>\n",
       "      <th>headline</th>\n",
       "      <th>category</th>\n",
       "    </tr>\n",
       "  </thead>\n",
       "  <tbody>\n",
       "    <tr>\n",
       "      <th>0</th>\n",
       "      <td>Over 4 Million Americans Roll Up Sleeves For O...</td>\n",
       "      <td>U.S. NEWS</td>\n",
       "    </tr>\n",
       "    <tr>\n",
       "      <th>1</th>\n",
       "      <td>American Airlines Flyer Charged, Banned For Li...</td>\n",
       "      <td>U.S. NEWS</td>\n",
       "    </tr>\n",
       "    <tr>\n",
       "      <th>2</th>\n",
       "      <td>23 Of The Funniest Tweets About Cats And Dogs ...</td>\n",
       "      <td>COMEDY</td>\n",
       "    </tr>\n",
       "    <tr>\n",
       "      <th>3</th>\n",
       "      <td>The Funniest Tweets From Parents This Week (Se...</td>\n",
       "      <td>PARENTING</td>\n",
       "    </tr>\n",
       "    <tr>\n",
       "      <th>4</th>\n",
       "      <td>Woman Who Called Cops On Black Bird-Watcher Lo...</td>\n",
       "      <td>U.S. NEWS</td>\n",
       "    </tr>\n",
       "  </tbody>\n",
       "</table>\n",
       "</div>"
      ],
      "text/plain": [
       "                                            headline   category\n",
       "0  Over 4 Million Americans Roll Up Sleeves For O...  U.S. NEWS\n",
       "1  American Airlines Flyer Charged, Banned For Li...  U.S. NEWS\n",
       "2  23 Of The Funniest Tweets About Cats And Dogs ...     COMEDY\n",
       "3  The Funniest Tweets From Parents This Week (Se...  PARENTING\n",
       "4  Woman Who Called Cops On Black Bird-Watcher Lo...  U.S. NEWS"
      ]
     },
     "execution_count": 6,
     "metadata": {},
     "output_type": "execute_result"
    }
   ],
   "source": [
    "df.head()"
   ]
  },
  {
   "cell_type": "code",
   "execution_count": 7,
   "id": "611f2eec-f2de-469a-b8fd-ecd62231f701",
   "metadata": {},
   "outputs": [
    {
     "data": {
      "text/plain": [
       "(209527, 2)"
      ]
     },
     "execution_count": 7,
     "metadata": {},
     "output_type": "execute_result"
    }
   ],
   "source": [
    "df.shape"
   ]
  },
  {
   "cell_type": "code",
   "execution_count": 8,
   "id": "2d8cc31d-f833-4941-9fa8-2bdbf3233f75",
   "metadata": {},
   "outputs": [
    {
     "data": {
      "text/plain": [
       "category\n",
       "ARTS               1509\n",
       "ARTS & CULTURE     1339\n",
       "BLACK VOICES       4583\n",
       "BUSINESS           5992\n",
       "COLLEGE            1144\n",
       "COMEDY             5400\n",
       "CRIME              3562\n",
       "CULTURE & ARTS     1074\n",
       "DIVORCE            3426\n",
       "EDUCATION          1014\n",
       "ENTERTAINMENT     17362\n",
       "ENVIRONMENT        1444\n",
       "FIFTY              1401\n",
       "FOOD & DRINK       6340\n",
       "GOOD NEWS          1398\n",
       "GREEN              2622\n",
       "HEALTHY LIVING     6694\n",
       "HOME & LIVING      4320\n",
       "IMPACT             3484\n",
       "LATINO VOICES      1130\n",
       "MEDIA              2944\n",
       "MONEY              1756\n",
       "PARENTING          8791\n",
       "PARENTS            3955\n",
       "POLITICS          35602\n",
       "QUEER VOICES       6347\n",
       "RELIGION           2577\n",
       "SCIENCE            2206\n",
       "SPORTS             5077\n",
       "STYLE              2254\n",
       "STYLE & BEAUTY     9814\n",
       "TASTE              2096\n",
       "TECH               2104\n",
       "THE WORLDPOST      3664\n",
       "TRAVEL             9900\n",
       "U.S. NEWS          1377\n",
       "WEDDINGS           3653\n",
       "WEIRD NEWS         2777\n",
       "WELLNESS          17945\n",
       "WOMEN              3572\n",
       "WORLD NEWS         3299\n",
       "WORLDPOST          2579\n",
       "Name: category, dtype: int64"
      ]
     },
     "execution_count": 8,
     "metadata": {},
     "output_type": "execute_result"
    }
   ],
   "source": [
    "df.groupby('category')['category'].agg('count')"
   ]
  },
  {
   "cell_type": "code",
   "execution_count": 9,
   "id": "8895fe16-b67b-4930-b951-97ee8d8aa602",
   "metadata": {},
   "outputs": [],
   "source": [
    "df1 = df[df['category'].isin(['SPORTS','TECH','POLITICS','SCIENCE','ENTERTAINMENT','RELIGION','EDUCATION','ENVIRONMENT'])]"
   ]
  },
  {
   "cell_type": "code",
   "execution_count": 10,
   "id": "f04d8228-bbf8-4dcb-8d96-c766e44445f2",
   "metadata": {},
   "outputs": [
    {
     "data": {
      "text/html": [
       "<div>\n",
       "<style scoped>\n",
       "    .dataframe tbody tr th:only-of-type {\n",
       "        vertical-align: middle;\n",
       "    }\n",
       "\n",
       "    .dataframe tbody tr th {\n",
       "        vertical-align: top;\n",
       "    }\n",
       "\n",
       "    .dataframe thead th {\n",
       "        text-align: right;\n",
       "    }\n",
       "</style>\n",
       "<table border=\"1\" class=\"dataframe\">\n",
       "  <thead>\n",
       "    <tr style=\"text-align: right;\">\n",
       "      <th></th>\n",
       "      <th>headline</th>\n",
       "      <th>category</th>\n",
       "    </tr>\n",
       "  </thead>\n",
       "  <tbody>\n",
       "    <tr>\n",
       "      <th>13</th>\n",
       "      <td>Twitch Bans Gambling Sites After Streamer Scam...</td>\n",
       "      <td>TECH</td>\n",
       "    </tr>\n",
       "    <tr>\n",
       "      <th>17</th>\n",
       "      <td>Maury Wills, Base-Stealing Shortstop For Dodge...</td>\n",
       "      <td>SPORTS</td>\n",
       "    </tr>\n",
       "    <tr>\n",
       "      <th>20</th>\n",
       "      <td>Golden Globes Returning To NBC In January Afte...</td>\n",
       "      <td>ENTERTAINMENT</td>\n",
       "    </tr>\n",
       "    <tr>\n",
       "      <th>21</th>\n",
       "      <td>Biden Says U.S. Forces Would Defend Taiwan If ...</td>\n",
       "      <td>POLITICS</td>\n",
       "    </tr>\n",
       "    <tr>\n",
       "      <th>24</th>\n",
       "      <td>‘Beautiful And Sad At The Same Time’: Ukrainia...</td>\n",
       "      <td>POLITICS</td>\n",
       "    </tr>\n",
       "    <tr>\n",
       "      <th>26</th>\n",
       "      <td>Las Vegas Aces Win First WNBA Title, Chelsea G...</td>\n",
       "      <td>SPORTS</td>\n",
       "    </tr>\n",
       "    <tr>\n",
       "      <th>28</th>\n",
       "      <td>James Cameron Says He 'Clashed' With Studio Be...</td>\n",
       "      <td>ENTERTAINMENT</td>\n",
       "    </tr>\n",
       "    <tr>\n",
       "      <th>30</th>\n",
       "      <td>Biden Says Queen's Death Left 'Giant Hole' For...</td>\n",
       "      <td>POLITICS</td>\n",
       "    </tr>\n",
       "    <tr>\n",
       "      <th>32</th>\n",
       "      <td>First Public Global Database Of Fossil Fuels L...</td>\n",
       "      <td>ENVIRONMENT</td>\n",
       "    </tr>\n",
       "    <tr>\n",
       "      <th>34</th>\n",
       "      <td>Alaska Prepares For 'Historic-Level' Storm Bar...</td>\n",
       "      <td>ENVIRONMENT</td>\n",
       "    </tr>\n",
       "  </tbody>\n",
       "</table>\n",
       "</div>"
      ],
      "text/plain": [
       "                                             headline       category\n",
       "13  Twitch Bans Gambling Sites After Streamer Scam...           TECH\n",
       "17  Maury Wills, Base-Stealing Shortstop For Dodge...         SPORTS\n",
       "20  Golden Globes Returning To NBC In January Afte...  ENTERTAINMENT\n",
       "21  Biden Says U.S. Forces Would Defend Taiwan If ...       POLITICS\n",
       "24  ‘Beautiful And Sad At The Same Time’: Ukrainia...       POLITICS\n",
       "26  Las Vegas Aces Win First WNBA Title, Chelsea G...         SPORTS\n",
       "28  James Cameron Says He 'Clashed' With Studio Be...  ENTERTAINMENT\n",
       "30  Biden Says Queen's Death Left 'Giant Hole' For...       POLITICS\n",
       "32  First Public Global Database Of Fossil Fuels L...    ENVIRONMENT\n",
       "34  Alaska Prepares For 'Historic-Level' Storm Bar...    ENVIRONMENT"
      ]
     },
     "execution_count": 10,
     "metadata": {},
     "output_type": "execute_result"
    }
   ],
   "source": [
    "df1.head(10)"
   ]
  },
  {
   "cell_type": "code",
   "execution_count": 11,
   "id": "f1427a64-1b22-4503-8aed-e2815fc96238",
   "metadata": {},
   "outputs": [
    {
     "data": {
      "text/plain": [
       "(67386, 2)"
      ]
     },
     "execution_count": 11,
     "metadata": {},
     "output_type": "execute_result"
    }
   ],
   "source": [
    "df1.shape"
   ]
  },
  {
   "cell_type": "code",
   "execution_count": 12,
   "id": "ea7ff5e2-838a-4930-ba59-91674eb26974",
   "metadata": {},
   "outputs": [],
   "source": [
    "def headline_convert(df): \n",
    "    category_mapping = {\n",
    "        'SPORTS': '000',\n",
    "        'TECH': '001',\n",
    "        'POLITICS': '010',\n",
    "        'SCIENCE': '011',\n",
    "        'ENTERTAINMENT': '100',\n",
    "        'RELIGION': '101',\n",
    "        'EDUCATION': '110',\n",
    "        'ENVIRONMENT': '111',       \n",
    "    }\n",
    "    for index, row in df.iterrows():\n",
    "        category = row['category']\n",
    "        binary_code = category_mapping.get(category)\n",
    "        if binary_code is not None:\n",
    "            df.at[index, 'category'] = binary_code"
   ]
  },
  {
   "cell_type": "code",
   "execution_count": 13,
   "id": "70942ae6-edfb-4b5c-9fbc-96a964aee38d",
   "metadata": {},
   "outputs": [],
   "source": [
    "headline_convert(df1)"
   ]
  },
  {
   "cell_type": "code",
   "execution_count": 14,
   "id": "76360a7b-505c-492c-9e23-9d5ff57c5f0b",
   "metadata": {},
   "outputs": [
    {
     "data": {
      "text/html": [
       "<div>\n",
       "<style scoped>\n",
       "    .dataframe tbody tr th:only-of-type {\n",
       "        vertical-align: middle;\n",
       "    }\n",
       "\n",
       "    .dataframe tbody tr th {\n",
       "        vertical-align: top;\n",
       "    }\n",
       "\n",
       "    .dataframe thead th {\n",
       "        text-align: right;\n",
       "    }\n",
       "</style>\n",
       "<table border=\"1\" class=\"dataframe\">\n",
       "  <thead>\n",
       "    <tr style=\"text-align: right;\">\n",
       "      <th></th>\n",
       "      <th>headline</th>\n",
       "      <th>category</th>\n",
       "    </tr>\n",
       "  </thead>\n",
       "  <tbody>\n",
       "    <tr>\n",
       "      <th>13</th>\n",
       "      <td>Twitch Bans Gambling Sites After Streamer Scam...</td>\n",
       "      <td>001</td>\n",
       "    </tr>\n",
       "    <tr>\n",
       "      <th>17</th>\n",
       "      <td>Maury Wills, Base-Stealing Shortstop For Dodge...</td>\n",
       "      <td>000</td>\n",
       "    </tr>\n",
       "    <tr>\n",
       "      <th>20</th>\n",
       "      <td>Golden Globes Returning To NBC In January Afte...</td>\n",
       "      <td>100</td>\n",
       "    </tr>\n",
       "    <tr>\n",
       "      <th>21</th>\n",
       "      <td>Biden Says U.S. Forces Would Defend Taiwan If ...</td>\n",
       "      <td>010</td>\n",
       "    </tr>\n",
       "    <tr>\n",
       "      <th>24</th>\n",
       "      <td>‘Beautiful And Sad At The Same Time’: Ukrainia...</td>\n",
       "      <td>010</td>\n",
       "    </tr>\n",
       "    <tr>\n",
       "      <th>26</th>\n",
       "      <td>Las Vegas Aces Win First WNBA Title, Chelsea G...</td>\n",
       "      <td>000</td>\n",
       "    </tr>\n",
       "    <tr>\n",
       "      <th>28</th>\n",
       "      <td>James Cameron Says He 'Clashed' With Studio Be...</td>\n",
       "      <td>100</td>\n",
       "    </tr>\n",
       "    <tr>\n",
       "      <th>30</th>\n",
       "      <td>Biden Says Queen's Death Left 'Giant Hole' For...</td>\n",
       "      <td>010</td>\n",
       "    </tr>\n",
       "    <tr>\n",
       "      <th>32</th>\n",
       "      <td>First Public Global Database Of Fossil Fuels L...</td>\n",
       "      <td>111</td>\n",
       "    </tr>\n",
       "    <tr>\n",
       "      <th>34</th>\n",
       "      <td>Alaska Prepares For 'Historic-Level' Storm Bar...</td>\n",
       "      <td>111</td>\n",
       "    </tr>\n",
       "  </tbody>\n",
       "</table>\n",
       "</div>"
      ],
      "text/plain": [
       "                                             headline category\n",
       "13  Twitch Bans Gambling Sites After Streamer Scam...      001\n",
       "17  Maury Wills, Base-Stealing Shortstop For Dodge...      000\n",
       "20  Golden Globes Returning To NBC In January Afte...      100\n",
       "21  Biden Says U.S. Forces Would Defend Taiwan If ...      010\n",
       "24  ‘Beautiful And Sad At The Same Time’: Ukrainia...      010\n",
       "26  Las Vegas Aces Win First WNBA Title, Chelsea G...      000\n",
       "28  James Cameron Says He 'Clashed' With Studio Be...      100\n",
       "30  Biden Says Queen's Death Left 'Giant Hole' For...      010\n",
       "32  First Public Global Database Of Fossil Fuels L...      111\n",
       "34  Alaska Prepares For 'Historic-Level' Storm Bar...      111"
      ]
     },
     "execution_count": 14,
     "metadata": {},
     "output_type": "execute_result"
    }
   ],
   "source": [
    "df1.head(10)"
   ]
  },
  {
   "cell_type": "code",
   "execution_count": 15,
   "id": "1853cde5-0520-43ab-9f3b-0b0173d745ac",
   "metadata": {},
   "outputs": [
    {
     "data": {
      "text/plain": [
       "category\n",
       "000     5077\n",
       "001     2104\n",
       "010    35602\n",
       "011     2206\n",
       "100    17362\n",
       "101     2577\n",
       "110     1014\n",
       "111     1444\n",
       "Name: category, dtype: int64"
      ]
     },
     "execution_count": 15,
     "metadata": {},
     "output_type": "execute_result"
    }
   ],
   "source": [
    "df1.groupby('category')['category'].agg('count')"
   ]
  },
  {
   "cell_type": "code",
   "execution_count": 16,
   "id": "753be0b5-c863-4e57-83fd-ee09810953d3",
   "metadata": {},
   "outputs": [],
   "source": [
    "from sklearn.model_selection import train_test_split"
   ]
  },
  {
   "cell_type": "code",
   "execution_count": 19,
   "id": "1c8dfe6c-28c0-4ece-aae0-dbbaa45167ca",
   "metadata": {},
   "outputs": [],
   "source": [
    "X_train,X_test,Y_train,Y_test=train_test_split(df1.headline,df1.category,test_size=0.3)"
   ]
  },
  {
   "cell_type": "code",
   "execution_count": 20,
   "id": "cae8b1cb-4d69-40b6-b8f1-8396d31fca21",
   "metadata": {},
   "outputs": [
    {
     "data": {
      "text/plain": [
       "(47170,)"
      ]
     },
     "execution_count": 20,
     "metadata": {},
     "output_type": "execute_result"
    }
   ],
   "source": [
    "X_train.shape"
   ]
  },
  {
   "cell_type": "code",
   "execution_count": 21,
   "id": "19254e5c-0f85-4c82-b7ea-5986a484d0e2",
   "metadata": {},
   "outputs": [
    {
     "data": {
      "text/plain": [
       "(20216,)"
      ]
     },
     "execution_count": 21,
     "metadata": {},
     "output_type": "execute_result"
    }
   ],
   "source": [
    "X_test.shape"
   ]
  },
  {
   "cell_type": "code",
   "execution_count": null,
   "id": "288c9b71-0e96-4818-af2f-6b9de5ccbaf2",
   "metadata": {},
   "outputs": [],
   "source": []
  }
 ],
 "metadata": {
  "kernelspec": {
   "display_name": "Python 3 (ipykernel)",
   "language": "python",
   "name": "python3"
  },
  "language_info": {
   "codemirror_mode": {
    "name": "ipython",
    "version": 3
   },
   "file_extension": ".py",
   "mimetype": "text/x-python",
   "name": "python",
   "nbconvert_exporter": "python",
   "pygments_lexer": "ipython3",
   "version": "3.11.5"
  }
 },
 "nbformat": 4,
 "nbformat_minor": 5
}
